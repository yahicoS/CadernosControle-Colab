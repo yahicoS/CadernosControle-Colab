{
  "nbformat": 4,
  "nbformat_minor": 0,
  "metadata": {
    "colab": {
      "provenance": [],
      "collapsed_sections": [],
      "toc_visible": true,
      "authorship_tag": "ABX9TyPKyFoLQvO5W/NxkNMJTdqh",
      "include_colab_link": true
    },
    "kernelspec": {
      "name": "python3",
      "display_name": "Python 3"
    },
    "language_info": {
      "name": "python"
    }
  },
  "cells": [
    {
      "cell_type": "markdown",
      "metadata": {
        "id": "view-in-github",
        "colab_type": "text"
      },
      "source": [
        "<a href=\"https://colab.research.google.com/github/yahicoS/CadernosControle-Colab/blob/main/ModeloeSimulacaoTanque.ipynb\" target=\"_parent\"><img src=\"https://colab.research.google.com/assets/colab-badge.svg\" alt=\"Open In Colab\"/></a>"
      ]
    },
    {
      "cell_type": "markdown",
      "source": [
        "# <center> **Modelagem matemática do enchimento de um tanque** <center>"
      ],
      "metadata": {
        "id": "IUkvJbuKHDSo"
      }
    },
    {
      "cell_type": "markdown",
      "source": [
        "Definição de hipóteses:\n",
        "\n",
        "- Líquido incompressível;\n",
        "- Resistência ao escoamento do fluído desprezível;\n",
        "\n",
        "\n",
        "Balanço de massa para o líquido:\n",
        "\n",
        "\\begin{equation} \\tag{1}\n",
        "\\mathrm{Ac= E - S + G}\n",
        "\\end{equation}\n",
        "\n",
        "Como não existe geração de massa $G = 0$ e o balanço pode ser escrito como:\n",
        "\n",
        "\\begin{equation} \\tag{2}\n",
        "\\frac{dm}{dt} = w_e - w_s\n",
        "\\end{equation}\n",
        "\n",
        "Do conceito de densidade ou massa específica:\n",
        "\n",
        "\\begin{equation} \\tag{3}\n",
        "\\rho = \\frac{m}{V} = \\frac{w \\cdot t}{Q \\cdot  t} = \\frac{w}{Q}\n",
        "\\end{equation}\n",
        "\n",
        "Assim:\n",
        "\n",
        "\\begin{equation} \\tag{4}\n",
        "m = \\rho \\cdot V\n",
        "\\end{equation}\n",
        "\n",
        "\\begin{equation}\n",
        "w_e = \\rho_e \\cdot Q_e \\tag{5}\n",
        "\\end{equation}\n",
        "\n",
        "\\begin{equation} \\tag{6}\n",
        "w_s = \\rho_s \\cdot Q_s\n",
        "\\end{equation}\n",
        "\n",
        "\n",
        "Substituindo as Eqs. (4), (5) e (6) em (4) tem-se:\n",
        "\n",
        "\\begin{equation} \\tag{7}\n",
        "\\frac{d(\\rho \\cdot V)}{dt} = \\rho_e \\cdot Q_e - \\rho_s \\cdot Q_s\n",
        "\\end{equation}\n",
        "\n",
        "Como o líquido é incompressível, $\\rho = \\rho_e = \\rho_s$:\n",
        "\n",
        "\\begin{equation} \\tag{8}\n",
        "\\rho \\cdot \\frac{d V}{dt} = \\rho \\cdot Q_e - \\rho \\cdot Q_s\n",
        "\\end{equation}\n",
        "\n",
        "Dividindo a Equação (8) por $\\rho$:\n",
        "\n",
        "\\begin{equation} \\tag{9}\n",
        "\\frac{d V}{dt} =  Q_e -  Q_s\n",
        "\\end{equation}\n",
        "\n",
        "O volume de líquido no interior do reator pode ser escrito como $A \\cdot h$.\n",
        "\n",
        "\\begin{equation} \\tag{10}\n",
        "\\frac{d(A \\cdot h)}{dt} = Q_e - Q_s\n",
        "\\end{equation}\n",
        "\n",
        "Como A é constante:\n",
        "\n",
        "\\begin{equation} \\tag{11}\n",
        "A \\cdot \\frac{dh}{dt} = Q_e - Q_s\n",
        "\\end{equation}\n",
        "\n",
        "Da Equação de Torriceli (Equação constitutiva):\n",
        "\n",
        "\\begin{equation} \\tag{12}\n",
        "v_s = \\sqrt[]{2\\cdot g \\cdot h}\n",
        "\\end{equation}\n",
        "\n",
        "A vazão de saída pode ser escrita em função da velocidade de saída do fluido do tanque:\n",
        "\n",
        "\\begin{equation} \\tag{13}\n",
        "Q_s = A_s \\cdot v_s = \\pi \\cdot r^2 \\cdot \\sqrt[]{2\\cdot g \\cdot h}\n",
        "\\end{equation}\n",
        "\n",
        "Como a área do tanque é $\\pi \\cdot R^2$:\n",
        "\n",
        "\\begin{equation} \\tag{14}\n",
        "\\pi \\cdot R^2 \\cdot \\frac{dh}{dt} = Q_e - \\pi \\cdot r^2 \\cdot \\sqrt[]{2\\cdot g \\cdot h}\n",
        "\\end{equation}\n",
        "\n",
        "Dividindo a Equação (14) por $\\pi \\cdot R^2$:\n",
        "\n",
        "\\begin{equation} \\tag{15}\n",
        "\\frac{dh}{dt} = \\frac{Q_e}{\\pi \\cdot R^2} - \\frac{r^2}{R^2} \\cdot \\sqrt[]{2\\cdot g \\cdot h}\n",
        "\\end{equation}\n",
        "\n",
        "\n",
        "O modelo para o enchimento do tanque é dado pela Equação (15) e pela seguinte condição inicial:\n",
        "\n",
        "\\begin{equation}\n",
        "h(0) = h_0\n",
        "\\end{equation}"
      ],
      "metadata": {
        "id": "WnpHT_ZKJVf8"
      }
    },
    {
      "cell_type": "markdown",
      "source": [
        "## Resolvendo o modelo numericamente"
      ],
      "metadata": {
        "id": "pR5_Sg975fGQ"
      }
    },
    {
      "cell_type": "code",
      "source": [
        "# Definindo parâmetros e Condição Inicial\n",
        "R = 0.5 #Raio do tanque [m]\n",
        "r = 0.02 #raio do tubo de saída [m]\n",
        "Qe = 0.012 #Vazão Volumétrica [m3/s]\n",
        "h0 = 0 #Altura inicial [m]"
      ],
      "metadata": {
        "id": "Hkxg6B_bWqua"
      },
      "execution_count": null,
      "outputs": []
    },
    {
      "cell_type": "code",
      "source": [
        "import numpy as np\n",
        "import matplotlib.pyplot as plt\n",
        "from scipy.integrate import odeint\n",
        "\n",
        "#definindo a equação diferencial\n",
        "def ode(y, t, R, r, Qe):\n",
        "  h = y[0]\n",
        "  g= 9.81 #m/s2\n",
        "  pi = 3.14\n",
        "  dhdt = Qe / (pi*R**2) - (r**2/R**2) * (2 * g * h)**(.5) \n",
        "  return dhdt\n",
        "\n",
        "\n",
        "\n",
        "\n",
        "\n",
        "#Definindo o vetor tempo\n",
        "t = np.linspace(0,4000,1000)\n",
        "\n",
        "y = odeint(ode,h0,t,args=(R,r,Qe))\n",
        "\n",
        "\n",
        "#Plotando a simulação\n",
        "\n",
        "figure = plt.plot()\n",
        "plt.plot(t,y[:,0])\n",
        "plt.xlabel(r'Tempo  (s)', fontsize = 'medium')\n",
        "plt.ylabel(r'$h(t)$   ($\\mathrm{m}}$)', fontsize = 'medium')\n",
        "plt.legend([\"h0 = {}\".format(h0)])\n",
        "plt.show\n",
        "\n"
      ],
      "metadata": {
        "colab": {
          "base_uri": "https://localhost:8080/",
          "height": 296
        },
        "id": "pko_pKOq5OPR",
        "outputId": "d871f46b-a4da-4d88-d7cc-5cffe44bfbc6"
      },
      "execution_count": null,
      "outputs": [
        {
          "output_type": "execute_result",
          "data": {
            "text/plain": [
              "<function matplotlib.pyplot.show(*args, **kw)>"
            ]
          },
          "metadata": {},
          "execution_count": 7
        },
        {
          "output_type": "display_data",
          "data": {
            "text/plain": [
              "<Figure size 432x288 with 1 Axes>"
            ],
            "image/png": "[encoded data removed]"
          },
          "metadata": {
            "needs_background": "light"
          }
        }
      ]
    },
    {
      "cell_type": "markdown",
      "source": [
        "## Verificando o efeito de diferentes **condições iniciais**"
      ],
      "metadata": {
        "id": "lYe_XPLRwfwp"
      }
    },
    {
      "cell_type": "code",
      "source": [
        "\n"
      ],
      "metadata": {
        "colab": {
          "base_uri": "https://localhost:8080/"
        },
        "id": "YoAv90PJXKBW",
        "outputId": "d4f85b41-6618-4644-80b2-8b030a28f2eb"
      },
      "execution_count": null,
      "outputs": [
        {
          "output_type": "stream",
          "name": "stdout",
          "text": [
            "Informe a quantidade de condições iniciais a serem comparadas no mesmo gráfico: 5\n",
            "<class 'int'>\n"
          ]
        }
      ]
    },
    {
      "cell_type": "code",
      "source": [
        "import numpy as np\n",
        "import matplotlib.pyplot as plt\n",
        "from scipy.integrate import odeint\n",
        "\n",
        "\n",
        "#definindo a equação diferencial\n",
        "def ode(y, t):\n",
        "  h = y[0]\n",
        "  g= 9.81 #m/s2\n",
        "  pi = 3.14\n",
        "\n",
        "  #Definindo parâmetros\n",
        "  R = 0.5 #Raio do tanque [m]\n",
        "  r = 0.02 #raio do tubo de saída [m]\n",
        "  Qe = 0.012 #Vazão Volumétrica [m3/s]\n",
        "\n",
        "  dhdt = Qe / (pi*R**2) - (r**2/R**2) * (2 * g * h)**(.5) \n",
        "  return dhdt\n",
        "\n",
        "#Definindo o vetor tempo\n",
        "t = np.linspace(0,4000,1000)\n",
        "\n",
        "#Condições Iniciais \n",
        "h0a = 0\n",
        "h0b = 3\n",
        "h0c = 8\n",
        "\n",
        "ya = odeint(ode,h0a,t)\n",
        "yb = odeint(ode,h0b,t)\n",
        "yc = odeint(ode,h0c,t)\n",
        "\n",
        "#Plotando a simulação\n",
        "\n",
        "plt.plot(t,ya[:,0],t,yb[:,0],t,yc[:,0])\n",
        "plt.xlabel(r'Tempo  (s)', fontsize = 'medium')\n",
        "plt.ylabel(r'$h(t)$   ($\\mathrm{m}}$)', fontsize = 'medium')\n",
        "plt.legend([\"h0 = {}\".format(h0a), \"h0 = {}\".format(h0b), \"h0 = {}\".format(h0c)])\n",
        "plt.show"
      ],
      "metadata": {
        "colab": {
          "base_uri": "https://localhost:8080/",
          "height": 296
        },
        "id": "sUzQh7XD7DHM",
        "outputId": "90aff1a1-6383-409d-a100-27eb9453105b"
      },
      "execution_count": null,
      "outputs": [
        {
          "output_type": "execute_result",
          "data": {
            "text/plain": [
              "<function matplotlib.pyplot.show(*args, **kw)>"
            ]
          },
          "metadata": {},
          "execution_count": 30
        },
        {
          "output_type": "display_data",
          "data": {
            "text/plain": [
              "<Figure size 432x288 with 1 Axes>"
            ],
            "image/png": "[encoded data removed]"
          },
          "metadata": {
            "needs_background": "light"
          }
        }
      ]
    }
  ]
}