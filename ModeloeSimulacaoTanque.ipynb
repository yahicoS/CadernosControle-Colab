{
  "nbformat": 4,
  "nbformat_minor": 0,
  "metadata": {
    "colab": {
      "provenance": [],
      "collapsed_sections": [],
      "authorship_tag": "ABX9TyN8BNxhKzs4f82TTsa0B1fu",
      "include_colab_link": true
    },
    "kernelspec": {
      "name": "python3",
      "display_name": "Python 3"
    },
    "language_info": {
      "name": "python"
    }
  },
  "cells": [
    {
      "cell_type": "markdown",
      "metadata": {
        "id": "view-in-github",
        "colab_type": "text"
      },
      "source": [
        "<a href=\"https://colab.research.google.com/github/yahicoS/CadernosControle-Colab/blob/main/ModeloeSimulacaoTanque.ipynb\" target=\"_parent\"><img src=\"https://colab.research.google.com/assets/colab-badge.svg\" alt=\"Open In Colab\"/></a>"
      ]
    },
    {
      "cell_type": "markdown",
      "source": [
        "# <center> **Modelagem matemática do enchimento de um tanque** <center>"
      ],
      "metadata": {
        "id": "IUkvJbuKHDSo"
      }
    },
    {
      "cell_type": "markdown",
      "source": [
        "Definição de hipóteses:\n",
        "\n",
        "- Líquido incompressível;\n",
        "- Resistência ao escoamento do fluído desprezível;\n",
        "\n",
        "\n",
        "Balanço de massa para o líquido:\n",
        "\n",
        "\\begin{equation} \\tag{1}\n",
        "\\mathrm{Ac= E - S + G}\n",
        "\\end{equation}\n",
        "\n",
        "Como não existe geração de massa $G = 0$ e o balanço pode ser escrito como:\n",
        "\n",
        "\\begin{equation} \\tag{2}\n",
        "\\frac{dm}{dt} = w_e - w_s\n",
        "\\end{equation}\n",
        "\n",
        "Do conceito de densidade ou massa específica:\n",
        "\n",
        "\\begin{equation} \\tag{3}\n",
        "\\rho = \\frac{m}{V} = \\frac{w \\cdot t}{Q \\cdot  t} = \\frac{w}{Q}\n",
        "\\end{equation}\n",
        "\n",
        "Assim:\n",
        "\n",
        "\\begin{equation} \\tag{4}\n",
        "m = \\rho \\cdot V\n",
        "\\end{equation}\n",
        "\n",
        "\\begin{equation}\n",
        "w_e = \\rho_e \\cdot Q_e \\tag{5}\n",
        "\\end{equation}\n",
        "\n",
        "\\begin{equation} \\tag{6}\n",
        "w_s = \\rho_s \\cdot Q_s\n",
        "\\end{equation}\n",
        "\n",
        "\n",
        "Substituindo as Eqs. (4), (5) e (6) em (4) tem-se:\n",
        "\n",
        "\\begin{equation} \\tag{7}\n",
        "\\frac{d(\\rho \\cdot V)}{dt} = \\rho_e \\cdot Q_e - \\rho_s \\cdot Q_s\n",
        "\\end{equation}\n",
        "\n",
        "Como o líquido é incompressível, $\\rho = \\rho_e = \\rho_s$:\n",
        "\n",
        "\\begin{equation} \\tag{8}\n",
        "\\rho \\cdot \\frac{d V}{dt} = \\rho \\cdot Q_e - \\rho \\cdot Q_s\n",
        "\\end{equation}\n",
        "\n",
        "Dividindo a Equação (8) por $\\rho$:\n",
        "\n",
        "\\begin{equation} \\tag{9}\n",
        "\\frac{d V}{dt} =  Q_e -  Q_s\n",
        "\\end{equation}\n",
        "\n",
        "O volume de líquido no interior do reator pode ser escrito como $A \\cdot h$.\n",
        "\n",
        "\\begin{equation} \\tag{10}\n",
        "\\frac{d(A \\cdot h)}{dt} = Q_e - Q_s\n",
        "\\end{equation}\n",
        "\n",
        "Como A é constante:\n",
        "\n",
        "\\begin{equation} \\tag{11}\n",
        "A \\cdot \\frac{dh}{dt} = Q_e - Q_s\n",
        "\\end{equation}\n",
        "\n",
        "Da Equação de Torriceli (Equação constitutiva):\n",
        "\n",
        "\\begin{equation} \\tag{12}\n",
        "v_s = \\sqrt[]{2\\cdot g \\cdot h}\n",
        "\\end{equation}\n",
        "\n",
        "A vazão de saída pode ser escrita em função da velocidade de saída do fluido do tanque:\n",
        "\n",
        "\\begin{equation} \\tag{13}\n",
        "Q_s = A_s \\cdot v_s = \\pi \\cdot r^2 \\cdot \\sqrt[]{2\\cdot g \\cdot h}\n",
        "\\end{equation}\n",
        "\n",
        "Como a área do tanque é $\\pi \\cdot R^2$:\n",
        "\n",
        "\\begin{equation} \\tag{14}\n",
        "\\pi \\cdot R^2 \\cdot \\frac{dh}{dt} = Q_e - \\pi \\cdot r^2 \\cdot \\sqrt[]{2\\cdot g \\cdot h}\n",
        "\\end{equation}\n",
        "\n",
        "Dividindo a Equação (14) por $\\pi \\cdot R^2$:\n",
        "\n",
        "\\begin{equation} \\tag{15}\n",
        "\\frac{dh}{dt} = \\frac{Q_e}{\\pi \\cdot R^2} - \\frac{r^2}{R^2} \\cdot \\sqrt[]{2\\cdot g \\cdot h}\n",
        "\\end{equation}\n",
        "\n",
        "\n",
        "O modelo para o enchimento do tanque é dado pela Equação (15) e pela seguinte condição inicial:\n",
        "\n",
        "\\begin{equation} \\tag{16}\n",
        "h(0) = h_0\n",
        "\\end{equation}"
      ],
      "metadata": {
        "id": "WnpHT_ZKJVf8"
      }
    },
    {
      "cell_type": "markdown",
      "source": [
        "## Resolvendo o modelo numericamente"
      ],
      "metadata": {
        "id": "pR5_Sg975fGQ"
      }
    },
    {
      "cell_type": "markdown",
      "source": [
        "Informe no código a seguir os valores dos parâmetros a serem analizados: <a name=\"CodigoEntrada\"></a>"
      ],
      "metadata": {
        "id": "_gy0caJTYkE_"
      }
    },
    {
      "cell_type": "code",
      "source": [
        "# Definindo parâmetros e Condição Inicial\n",
        "R = 0.5 #Raio do tanque [m]\n",
        "r = 0.02 #raio do tubo de saída [m]\n",
        "Qe = 0.012 #Vazão Volumétrica [m3/s]\n",
        "h0 = 0 #Altura inicial [m]\n",
        "tf = 3000 #Valor de tempo final da simulação [s]"
      ],
      "metadata": {
        "id": "Hkxg6B_bWqua"
      },
      "execution_count": 8,
      "outputs": []
    },
    {
      "cell_type": "markdown",
      "source": [
        "O Código a seguir resolve a Equação Diferencial do modelo com os parâmetros definidos (no código anterior) pelo usuários e plota os gráficos com o comportamento da resposta: $ h(t) \\, \\times \\, t$;"
      ],
      "metadata": {
        "id": "ry8-LK9QYudL"
      }
    },
    {
      "cell_type": "code",
      "source": [
        "import numpy as np\n",
        "import matplotlib.pyplot as plt\n",
        "from scipy.integrate import odeint\n",
        "\n",
        "#definindo a equação diferencial\n",
        "def ode(y, t, R, r, Qe):\n",
        "  h = y[0]\n",
        "  g= 9.81 #m/s2\n",
        "  pi = 3.14\n",
        "  dhdt = Qe / (pi*R**2) - (r**2/R**2) * (2 * g * h)**(.5) \n",
        "  return dhdt\n",
        "\n",
        "\n",
        "\n",
        "\n",
        "\n",
        "#Definindo o vetor tempo\n",
        "t = np.linspace(0,tf,1000)\n",
        "\n",
        "y = odeint(ode,h0,t,args=(R,r,Qe))\n",
        "\n",
        "\n",
        "#Plotando a simulação\n",
        "\n",
        "figure = plt.plot()\n",
        "plt.plot(t,y[:,0])\n",
        "plt.xlabel(r'Tempo  (s)', fontsize = 'medium')\n",
        "plt.ylabel(r'$h(t)$   ($\\mathrm{m}}$)', fontsize = 'medium')\n",
        "plt.legend([\"h0 = {} m\".format(h0)])\n",
        "plt.grid()\n",
        "plt.show\n",
        "\n"
      ],
      "metadata": {
        "colab": {
          "base_uri": "https://localhost:8080/",
          "height": 296
        },
        "id": "pko_pKOq5OPR",
        "outputId": "9a9ac958-9c61-47be-ef9e-d23c6e29f826"
      },
      "execution_count": 9,
      "outputs": [
        {
          "output_type": "execute_result",
          "data": {
            "text/plain": [
              "<function matplotlib.pyplot.show(*args, **kw)>"
            ]
          },
          "metadata": {},
          "execution_count": 9
        },
        {
          "output_type": "display_data",
          "data": {
            "text/plain": [
              "<Figure size 432x288 with 1 Axes>"
            ],
            "image/png": "[encoded data removed]"
          },
          "metadata": {
            "needs_background": "light"
          }
        }
      ]
    },
    {
      "cell_type": "markdown",
      "source": [
        "\n",
        "## Verificando o efeito de diferentes **condições iniciais**"
      ],
      "metadata": {
        "id": "lYe_XPLRwfwp"
      }
    },
    {
      "cell_type": "markdown",
      "source": [
        "O Código a seguir informa a quantidade de Condições Iniciais e os valores destas Condições a serem comparadas no mesmo gráfico. Utiliza os mesmos parâmetros definidos anteriormente no código [respectivo](#CodigoEntrada) (exceto a condição inicial). "
      ],
      "metadata": {
        "id": "NpWdlaFJZ3Vc"
      }
    },
    {
      "cell_type": "code",
      "source": [
        "n = int(input(\"Informe a quantidade de condições iniciais a serem comparadas no mesmo gráfico: \")) #a função input recebe valores do tipo str assim é necessário convertero número informado para int\n",
        "h0var = [] #define a variável h0var como tipo list e vazia\n",
        "for i in range(0,n):\n",
        "  h0var.append(input(\"Informe o valor da condição inicial a ser avaliada: \")) #.append adiciona a lista um novo valor e muda seu tamanho a cada iteração\n",
        "  \n"
      ],
      "metadata": {
        "colab": {
          "base_uri": "https://localhost:8080/"
        },
        "id": "YoAv90PJXKBW",
        "outputId": "46e278e8-b7e0-48be-ebf9-bed08c848dbb"
      },
      "execution_count": 4,
      "outputs": [
        {
          "name": "stdout",
          "output_type": "stream",
          "text": [
            "Informe a quantidade de condições iniciais a serem comparadas no mesmo gráfico: 4\n",
            "Informe o valor da condição inicial a ser avaliada: 0\n",
            "Informe o valor da condição inicial a ser avaliada: 2.3\n",
            "Informe o valor da condição inicial a ser avaliada: 5.7\n",
            "Informe o valor da condição inicial a ser avaliada: 8.123\n"
          ]
        }
      ]
    },
    {
      "cell_type": "code",
      "source": [
        "import numpy as np\n",
        "import matplotlib.pyplot as plt\n",
        "from scipy.integrate import odeint\n",
        "\n",
        "\n",
        "#Resolvendo e plotando a simulação para cada condição inicial avaliada\n",
        "\n",
        "for i in range(0,n):\n",
        "  y = odeint(ode,h0var[i],t,args=(R,r,Qe))\n",
        "  plt.plot(t,y[:,0],label=\"h0 = {} m\".format(h0var[i]))\n",
        "\n",
        "plt.xlabel(r'Tempo  (s)', fontsize = 'medium')\n",
        "plt.ylabel(r'$h(t)$   ($\\mathrm{m}}$)', fontsize = 'medium')\n",
        "plt.legend()\n",
        "plt.grid()\n",
        "plt.show"
      ],
      "metadata": {
        "colab": {
          "base_uri": "https://localhost:8080/",
          "height": 296
        },
        "id": "sUzQh7XD7DHM",
        "outputId": "741afd96-392d-4e79-a2b5-bb6da589501c"
      },
      "execution_count": 10,
      "outputs": [
        {
          "output_type": "execute_result",
          "data": {
            "text/plain": [
              "<function matplotlib.pyplot.show(*args, **kw)>"
            ]
          },
          "metadata": {},
          "execution_count": 10
        },
        {
          "output_type": "display_data",
          "data": {
            "text/plain": [
              "<Figure size 432x288 with 1 Axes>"
            ],
            "image/png": "[encoded data removed]"
          },
          "metadata": {
            "needs_background": "light"
          }
        }
      ]
    }
  ]
}