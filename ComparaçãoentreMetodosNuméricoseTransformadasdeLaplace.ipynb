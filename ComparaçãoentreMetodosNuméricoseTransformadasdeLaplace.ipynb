{
  "nbformat": 4,
  "nbformat_minor": 0,
  "metadata": {
    "colab": {
      "provenance": [],
      "authorship_tag": "ABX9TyM2ErVrA7TEIa/GWwO26Ghh",
      "include_colab_link": true
    },
    "kernelspec": {
      "name": "python3",
      "display_name": "Python 3"
    },
    "language_info": {
      "name": "python"
    }
  },
  "cells": [
    {
      "cell_type": "markdown",
      "metadata": {
        "id": "view-in-github",
        "colab_type": "text"
      },
      "source": [
        "<a href=\"https://colab.research.google.com/github/yahicoS/CadernosControle-Colab/blob/main/Compara%C3%A7%C3%A3oentreMetodosNum%C3%A9ricoseTransformadasdeLaplace.ipynb\" target=\"_parent\"><img src=\"https://colab.research.google.com/assets/colab-badge.svg\" alt=\"Open In Colab\"/></a>"
      ]
    },
    {
      "cell_type": "markdown",
      "source": [
        "# Comparação entre Métodos Numéricos e Transformadas de Laplace\n",
        "\n",
        "Este programa mostra os erros relacionados a solução de uma equação diferencial não linear aproximada por uma linear no ponto do regime permanente com Transformadas de Laplace."
      ],
      "metadata": {
        "id": "OgPQipnsfYXm"
      }
    },
    {
      "cell_type": "code",
      "execution_count": null,
      "metadata": {
        "id": "yuqTxU6pfXe6"
      },
      "outputs": [],
      "source": [
        "# Definindo parâmetros e Condição Inicial\n",
        "g= 9.81 #m/s2\n",
        "pi = 3.14\n",
        "R = 0.5 #Raio do tanque [m]\n",
        "r = 0.02 #raio do tubo de saída [m]\n",
        "h0 = 3 #Condição Inicial do nível do tanque\n",
        "Qebarra = pi * r**2 * (2*g*h0)**.5 #Vazão Volumétrica correspondente no regime permanente [m3/s]\n",
        "\n",
        "\n",
        "Qe = 0.012 #Vazão Volumétrica após um degrau [m3/s]\n",
        "hinf = (Qe / (pi * r**2))**2 /(2*g)\n",
        "tf = 4000 #Valor de tempo final da simulação [s]"
      ]
    },
    {
      "cell_type": "code",
      "source": [
        "import numpy as np\n",
        "import matplotlib.pyplot as plt\n",
        "from scipy.integrate import odeint\n",
        "\n",
        "#definindo a equação diferencial\n",
        "def ode(y, t, R, r, Qe):\n",
        "  h = y[0]\n",
        "  dhdt = Qe / (pi*R**2) - (r**2/R**2) * (2 * g * h)**(.5) \n",
        "  return dhdt\n",
        "\n",
        "\n",
        "\n",
        "\n",
        "\n",
        "#Definindo o vetor tempo\n",
        "t = np.linspace(0,tf,1000)\n",
        "\n",
        "\n",
        "#Calculando a resposta por método numérico e Laplace\n",
        "\n",
        "y = odeint(ode,h0,t,args=(R,r,Qe))\n",
        "y1 = y[:,0]\n",
        "\n",
        "#Calculando a resposta por Laplace\n",
        "A = pi * R**2\n",
        "C = pi * r**2 * (2*g)**.5\n",
        "K = (2 * (h0)**.5)/ C\n",
        "\n",
        "tau = 2 * A * (h0)**.5 / C\n",
        "L = Qe - Qebarra\n",
        "y2 = K * L * (1-np.exp(-t/tau)) + h0\n",
        "print(len(y2))\n",
        "print(abs(y2[1000-1]-y1[1000-1]))\n",
        "\n",
        "#Plotando a simulação\n",
        "#versão 2\n",
        "figure = plt.plot()\n",
        "plt.plot(t,y1,label=f\"Integração Numérica (h0 ={h0})\")\n",
        "plt.plot(t,y2,label=f\"Laplace (h0 = {h0})\")\n",
        "plt.xlabel(r'Tempo  (s)', fontsize = 'medium')\n",
        "plt.ylabel(r'$h(t)$   ($\\mathrm{m}}$)', fontsize = 'medium')\n",
        "plt.legend()\n",
        "plt.grid()\n",
        "plt.show"
      ],
      "metadata": {
        "colab": {
          "base_uri": "https://localhost:8080/",
          "height": 330
        },
        "id": "MnNRPOQFgZLX",
        "outputId": "450b1f80-1b35-4d94-d1d5-03332a7354f9"
      },
      "execution_count": null,
      "outputs": [
        {
          "output_type": "stream",
          "name": "stdout",
          "text": [
            "1000\n",
            "0.17885149751949214\n"
          ]
        },
        {
          "output_type": "execute_result",
          "data": {
            "text/plain": [
              "<function matplotlib.pyplot.show(*args, **kw)>"
            ]
          },
          "metadata": {},
          "execution_count": 5
        },
        {
          "output_type": "display_data",
          "data": {
            "text/plain": [
              "<Figure size 432x288 with 1 Axes>"
            ],
            "image/png": "[encoded data removed]"
          },
          "metadata": {
            "needs_background": "light"
          }
        }
      ]
    },
    {
      "cell_type": "code",
      "source": [
        "a = r'$/frac{a}{b}$'\n",
        "print(f\"tentando {a} imprimir $$\")"
      ],
      "metadata": {
        "colab": {
          "base_uri": "https://localhost:8080/"
        },
        "id": "iMhGxs7yjRtp",
        "outputId": "a8d67e26-87df-4a99-ced2-868ae32c689c"
      },
      "execution_count": null,
      "outputs": [
        {
          "output_type": "stream",
          "name": "stdout",
          "text": [
            "tentando $/frac{a}{b}$ imprimir $$\n"
          ]
        }
      ]
    },
    {
      "cell_type": "markdown",
      "source": [
        "# Comparação entre modelo linear resolvido numericamente e oela transformada de laplace"
      ],
      "metadata": {
        "id": "6hq8aX0MzS1d"
      }
    },
    {
      "cell_type": "code",
      "source": [
        "#Dados de entrada\n",
        "# Constantes\n",
        "w1 = 600\n",
        "w2 = 200\n",
        "x2 = 1\n",
        "rho = 900\n",
        "V = 2\n",
        "\n",
        "#No regime Permanente\n",
        "x1barra = 0.10\n",
        "xbarra = (w1*x1barra+w2*x2)/(w1+w2)\n",
        "\n",
        "#degrau\n",
        "x1 = 0.8\n",
        "\n",
        "\n",
        "tftanque = 30\n",
        "n = 1001\n"
      ],
      "metadata": {
        "id": "KV27a3mczYlO"
      },
      "execution_count": null,
      "outputs": []
    },
    {
      "cell_type": "code",
      "source": [
        "import numpy as np\n",
        "import matplotlib.pyplot as plt\n",
        "from scipy.integrate import odeint\n",
        "\n",
        "#definindo a equação diferencial\n",
        "def odetanque(y, t2):\n",
        "  x = y[0]\n",
        "  dxdt = (w1*x1+w2*x2-(w1+w2)*x)/(rho*V)\n",
        "  return dxdt\n",
        "\n",
        "\n",
        "\n",
        "\n",
        "\n",
        "#Definindo o vetor tempo\n",
        "t2 = np.linspace(0,tftanque,n)\n",
        "\n",
        "\n",
        "#Calculando a resposta por método numérico e Laplace\n",
        "\n",
        "x = odeint(odetanque,xbarra,t2)\n",
        "xnum = x[:,0]\n",
        "\n",
        "#Calculando a resposta por Laplace\n",
        "Ktanque =w1/(w1+w2)\n",
        "tautanque = rho *V/(w1+w2)\n",
        "Ltanque = x1 - x1barra\n",
        "xlap = Ktanque * Ltanque * (1-np.exp(-t2/tautanque)) + xbarra\n",
        "print(abs(xlap[n-1]-xnum[n-1]))\n",
        "\n",
        "#Plotando a simulação\n",
        "\n",
        "figure = plt.plot()\n",
        "plt.plot(t2,xnum,label=f\"Integração Numérica (x0 ={xbarra})\")\n",
        "plt.plot(t2,xlap,label=f\"Laplace (x0 = {xbarra})\")\n",
        "plt.xlabel(r'Tempo  (s)', fontsize = 'medium')\n",
        "plt.ylabel(r'$x(t)$   ($\\mathrm{m}}$)', fontsize = 'medium')\n",
        "plt.legend()\n",
        "plt.grid()\n",
        "plt.show"
      ],
      "metadata": {
        "colab": {
          "base_uri": "https://localhost:8080/",
          "height": 313
        },
        "id": "xYxRdLe20R-Y",
        "outputId": "649ae8c8-2174-4fea-bad3-3fa988cbc83f"
      },
      "execution_count": null,
      "outputs": [
        {
          "output_type": "stream",
          "name": "stdout",
          "text": [
            "1.4971743844682806e-09\n"
          ]
        },
        {
          "output_type": "execute_result",
          "data": {
            "text/plain": [
              "<function matplotlib.pyplot.show(*args, **kw)>"
            ]
          },
          "metadata": {},
          "execution_count": 7
        },
        {
          "output_type": "display_data",
          "data": {
            "text/plain": [
              "<Figure size 432x288 with 1 Axes>"
            ],
            "image/png": "[encoded data removed]"
          },
          "metadata": {
            "needs_background": "light"
          }
        }
      ]
    },
    {
      "cell_type": "code",
      "source": [
        "print(xlap[n-1],xnum)"
      ],
      "metadata": {
        "id": "VWcFrbYWVoL9"
      },
      "execution_count": null,
      "outputs": []
    }
  ]
}